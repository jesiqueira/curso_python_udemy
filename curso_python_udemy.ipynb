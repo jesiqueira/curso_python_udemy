{
  "nbformat": 4,
  "nbformat_minor": 0,
  "metadata": {
    "colab": {
      "name": "curso_python_udemy.ipynb",
      "provenance": [],
      "authorship_tag": "ABX9TyPNJViPPE/nvw8+bwretBpl",
      "include_colab_link": true
    },
    "kernelspec": {
      "name": "python3",
      "display_name": "Python 3"
    }
  },
  "cells": [
    {
      "cell_type": "markdown",
      "metadata": {
        "id": "view-in-github",
        "colab_type": "text"
      },
      "source": [
        "<a href=\"https://colab.research.google.com/github/jesiqueira/curso_python_udemy/blob/main/curso_python_udemy.ipynb\" target=\"_parent\"><img src=\"https://colab.research.google.com/assets/colab-badge.svg\" alt=\"Open In Colab\"/></a>"
      ]
    },
    {
      "cell_type": "markdown",
      "metadata": {
        "id": "dXdapa9RWDma"
      },
      "source": [
        "===========String==========\n"
      ]
    },
    {
      "cell_type": "code",
      "metadata": {
        "colab": {
          "base_uri": "https://localhost:8080/"
        },
        "id": "ufTbFzVXWIbc",
        "outputId": "ff7cbcdb-8e2c-4830-d3ad-c5f74b34ff43"
      },
      "source": [
        "frase = 'Python é uma linguagem excelente'\n",
        "print('py' not in frase)\n",
        "print('ing' not in frase)\n",
        "print(len(frase))\n",
        "print(frase.lower())\n",
        "print('py' in frase.lower())\n",
        "print(frase.upper())\n",
        "\n",
        "print(frase.split())\n",
        "print(frase.split('e'))\n",
        "# print(dir(str))"
      ],
      "execution_count": 3,
      "outputs": [
        {
          "output_type": "stream",
          "text": [
            "True\n",
            "False\n",
            "32\n",
            "python é uma linguagem excelente\n",
            "True\n",
            "PYTHON É UMA LINGUAGEM EXCELENTE\n",
            "['Python', 'é', 'uma', 'linguagem', 'excelente']\n",
            "['Python é uma linguag', 'm ', 'xc', 'l', 'nt', '']\n"
          ],
          "name": "stdout"
        }
      ]
    },
    {
      "cell_type": "markdown",
      "metadata": {
        "id": "zHildN-BWoek"
      },
      "source": [
        "=============Tupla=========="
      ]
    },
    {
      "cell_type": "code",
      "metadata": {
        "colab": {
          "base_uri": "https://localhost:8080/"
        },
        "id": "iF7v7nq5Wqd0",
        "outputId": "99d12738-9b0f-4880-d703-bda57f8cccc1"
      },
      "source": [
        "#tupla não pode ser modificado.\n",
        "tupla = tuple\n",
        "print(tupla)\n",
        "tupla = ()\n",
        "print(type(tupla))\n",
        "# print(dir(tupla))\n",
        "# print(help(tupla))\n",
        "tupla = ('um',)\n",
        "print(type(tupla))\n",
        "print(tupla[0])\n",
        "# tupla = 'novo' # não consegue add dados em uma tupla é imutavel\n",
        "\n",
        "cores = ('verde', 'amarelo', 'azul', 'branco')\n",
        "print(cores[0])\n",
        "print(cores[-1])\n",
        "print(cores[1])\n",
        "\n",
        "print(cores.index('amarelo'))\n",
        "print(cores.count('amarelo'))\n",
        "print(len(cores))"
      ],
      "execution_count": 4,
      "outputs": [
        {
          "output_type": "stream",
          "text": [
            "<class 'tuple'>\n",
            "<class 'tuple'>\n",
            "<class 'tuple'>\n",
            "um\n",
            "verde\n",
            "branco\n",
            "amarelo\n",
            "1\n",
            "1\n",
            "4\n"
          ],
          "name": "stdout"
        }
      ]
    },
    {
      "cell_type": "markdown",
      "metadata": {
        "id": "SxW79s0_Wxgs"
      },
      "source": [
        "========================Lista ==========="
      ]
    },
    {
      "cell_type": "code",
      "metadata": {
        "colab": {
          "base_uri": "https://localhost:8080/"
        },
        "id": "jIV9EcV1W0LM",
        "outputId": "ad06e6a7-1661-45e2-9654-60069fa51b8b"
      },
      "source": [
        "lista = []\n",
        "# print(type(lista))\n",
        "# print(dir(lista))\n",
        "# print(help(lista))\n",
        "# print(len(lista))\n",
        "lista.append(1)\n",
        "lista.append(2)\n",
        "# print(lista)\n",
        "\n",
        "nova_lista = [1, 5, 'Ana', 'Bia']\n",
        "# print(nova_lista)\n",
        "nova_lista.remove(5)\n",
        "# print(nova_lista)\n",
        "nova_lista.reverse()\n",
        "print(nova_lista)"
      ],
      "execution_count": 6,
      "outputs": [
        {
          "output_type": "stream",
          "text": [
            "['Bia', 'Ana', 1]\n"
          ],
          "name": "stdout"
        }
      ]
    },
    {
      "cell_type": "code",
      "metadata": {
        "colab": {
          "base_uri": "https://localhost:8080/"
        },
        "id": "Y88cPNVzW8m1",
        "outputId": "33d94e37-a0ce-4c97-f3ed-d5a8b75fb02e"
      },
      "source": [
        "#acessar elementos de uma lista.\n",
        "lista = [1, 5, 'Rebeca', 'Guilherme', 3.12121]\n",
        "# print(lista.index('Guilherme'))\n",
        "# print(lista[2])\n",
        "# print(lista[0])\n",
        "# print(lista[4])\n",
        "print('Rebeca' in lista)\n",
        "print('Pedo' not in lista)\n",
        "print(lista[-1])\n",
        "print(lista[-5])\n",
        "\n",
        "lista = ['Ana', 'Lia', 'Rui', 'Paulo', 'Dani']\n",
        "print(lista[1:3])\n",
        "print(lista[1:-1])\n",
        "print(lista[1:])\n",
        "print(lista[1:])\n",
        "print(lista[:-1])\n",
        "print(lista[:])\n",
        "print(lista[::2])\n",
        "print(lista[::-1])\n",
        "del lista[2]\n",
        "print(lista)\n",
        "del lista[1:]\n",
        "print(lista)"
      ],
      "execution_count": 7,
      "outputs": [
        {
          "output_type": "stream",
          "text": [
            "True\n",
            "True\n",
            "3.12121\n",
            "1\n",
            "['Lia', 'Rui']\n",
            "['Lia', 'Rui', 'Paulo']\n",
            "['Lia', 'Rui', 'Paulo', 'Dani']\n",
            "['Lia', 'Rui', 'Paulo', 'Dani']\n",
            "['Ana', 'Lia', 'Rui', 'Paulo']\n",
            "['Ana', 'Lia', 'Rui', 'Paulo', 'Dani']\n",
            "['Ana', 'Rui', 'Dani']\n",
            "['Dani', 'Paulo', 'Rui', 'Lia', 'Ana']\n",
            "['Ana', 'Lia', 'Paulo', 'Dani']\n",
            "['Ana']\n"
          ],
          "name": "stdout"
        }
      ]
    },
    {
      "cell_type": "markdown",
      "metadata": {
        "id": "AqZ8yNITXJfr"
      },
      "source": [
        "================Dicionário==============="
      ]
    },
    {
      "cell_type": "code",
      "metadata": {
        "colab": {
          "base_uri": "https://localhost:8080/"
        },
        "id": "NnBDgc_uXLZs",
        "outputId": "c7ae86ca-ab30-463c-c625-5202fbb79381"
      },
      "source": [
        "pessoa = {'nome': 'Edmar', 'idade': 36, 'cursos': ['Python', 'Docker']}\n",
        "print(type(pessoa))\n",
        "print(len(pessoa))\n",
        "print(pessoa)\n",
        "print(pessoa['nome'])\n",
        "print(pessoa['idade'])\n",
        "print(pessoa['cursos'])\n",
        "print(pessoa['cursos'][1])\n",
        "print(pessoa.keys())\n",
        "print(pessoa.values())\n",
        "print(pessoa.items())\n",
        "print(pessoa.get('nome'))\n"
      ],
      "execution_count": 9,
      "outputs": [
        {
          "output_type": "stream",
          "text": [
            "<class 'dict'>\n",
            "3\n",
            "{'nome': 'Edmar', 'idade': 36, 'cursos': ['Python', 'Docker']}\n",
            "Edmar\n",
            "36\n",
            "['Python', 'Docker']\n",
            "Docker\n",
            "dict_keys(['nome', 'idade', 'cursos'])\n",
            "dict_values(['Edmar', 36, ['Python', 'Docker']])\n",
            "dict_items([('nome', 'Edmar'), ('idade', 36), ('cursos', ['Python', 'Docker'])])\n",
            "Edmar\n"
          ],
          "name": "stdout"
        }
      ]
    },
    {
      "cell_type": "code",
      "metadata": {
        "colab": {
          "base_uri": "https://localhost:8080/"
        },
        "id": "Mg6d2bsaXMdE",
        "outputId": "885b502f-aff4-4bb5-b546-76ab74d9ba95"
      },
      "source": [
        "pessoa = {'nome': 'Edmar', 'idade': 44, 'cursos': ['React', 'Python']}\n",
        "pessoa['idade'] = 36\n",
        "pessoa['cursos'].append('Angular')\n",
        "print(pessoa)\n",
        "print(pessoa.pop('idade'))\n",
        "print(pessoa)\n",
        "pessoa.update({'idade': 40, 'sexo': 'M'})\n",
        "print(pessoa)\n",
        "del pessoa['cursos']\n",
        "print(pessoa)\n",
        "pessoa.clear()\n",
        "print(pessoa)"
      ],
      "execution_count": 10,
      "outputs": [
        {
          "output_type": "stream",
          "text": [
            "{'nome': 'Edmar', 'idade': 36, 'cursos': ['React', 'Python', 'Angular']}\n",
            "36\n",
            "{'nome': 'Edmar', 'cursos': ['React', 'Python', 'Angular']}\n",
            "{'nome': 'Edmar', 'cursos': ['React', 'Python', 'Angular'], 'idade': 40, 'sexo': 'M'}\n",
            "{'nome': 'Edmar', 'idade': 40, 'sexo': 'M'}\n",
            "{}\n"
          ],
          "name": "stdout"
        }
      ]
    }
  ]
}